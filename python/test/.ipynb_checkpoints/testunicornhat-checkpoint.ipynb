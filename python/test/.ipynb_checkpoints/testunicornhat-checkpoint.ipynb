{
 "cells": [
  {
   "cell_type": "code",
   "execution_count": 4,
   "metadata": {
    "collapsed": false
   },
   "outputs": [],
   "source": [
    "import unittest\n",
    "import unicornhat\n",
    "import random\n",
    "import hamcrest\n",
    "\n",
    "#import unicorncycle"
   ]
  },
  {
   "cell_type": "code",
   "execution_count": 3,
   "metadata": {
    "collapsed": false
   },
   "outputs": [],
   "source": [
    "def test_brightness_scale(self):\n",
    "    #Tests increasing brightness from\n",
    "    #zero to 9 over a period of 1 min.\n",
    "    for i in range(0,10):\n",
    "        print i\n",
    "        briintz = ('0.' + str(i))\n",
    "        intbro = int(briintz)\n",
    "        unicornhat.brightness(intbro)"
   ]
  },
  {
   "cell_type": "code",
   "execution_count": null,
   "metadata": {
    "collapsed": true
   },
   "outputs": [],
   "source": [
    "unicornhat.brightness(0.1)\n"
   ]
  },
  {
   "cell_type": "code",
   "execution_count": 4,
   "metadata": {
    "collapsed": false
   },
   "outputs": [
    {
     "ename": "IndentationError",
     "evalue": "expected an indented block (<ipython-input-4-173c0227e28f>, line 14)",
     "output_type": "error",
     "traceback": [
      "\u001b[1;36m  File \u001b[1;32m\"<ipython-input-4-173c0227e28f>\"\u001b[1;36m, line \u001b[1;32m14\u001b[0m\n\u001b[1;33m    def test_index_is_none(self):\u001b[0m\n\u001b[1;37m      ^\u001b[0m\n\u001b[1;31mIndentationError\u001b[0m\u001b[1;31m:\u001b[0m expected an indented block\n"
     ]
    }
   ],
   "source": [
    "class TestUnicornHat(unittest.TestCase):\n",
    "    #def setUp(self):\n",
    "        #randz = self.random.randint(0,7)\n",
    "        \n",
    "        #unicornhat.set_pixel\n",
    "        #unicornhat.ws2812.setPixelColorRGB\n",
    "    \n",
    "        \n",
    "        \n",
    "        \n",
    "    #def test_turn_on_all(self):\n",
    "    def test_brightness_scale(self):\n",
    "        #Tests increasing brightness from\n",
    "        #zero to 9 over a period of 1 min.\n",
    "        for i in range(0,10):\n",
    "            print i\n",
    "            briintz = ('0.' + str(i))\n",
    "            \n",
    "            \n",
    "            \n",
    "            intbro = int(briintz)\n",
    "            unicornhat.brightness(intbro)\n",
    "            \n",
    "        \n",
    "        \n",
    "    def test_index_is_none(self):\n",
    "        #Test turning on a single \n",
    "        #led\n",
    "        randz = random.randint(0,7)\n",
    "        ind = unicornhat.get_index_from_xy(randz, randz)\n",
    "        assert ind != None\n",
    "    \n",
    "    def test_wrong_int(self):\n",
    "        #test if x is less than \n",
    "        #7 and more than 0.\n",
    "        #If x is wrong - fail.\n",
    "        intz = (9)\n",
    "        if intz >= 7 or intz < 0:\n",
    "            assert intz\n",
    "        #assert highd\n",
    "        #as\n",
    "        #hamcrest.\n",
    "        \n",
    "    def test_setpixel(self):\n",
    "        #Test turning on of a single pixel\n",
    "        #Test changing colour of single pixel.\n",
    "        #Test turning off all pixels\n",
    "        #Test turning on all pixels\n",
    "        #Test changing colour of all pixels\n",
    "        unicornhat.set_pixel(50, 100, 150)\n",
    "        unittest.TestCase.\n",
    "    #def test_"
   ]
  },
  {
   "cell_type": "code",
   "execution_count": null,
   "metadata": {
    "collapsed": true
   },
   "outputs": [],
   "source": []
  }
 ],
 "metadata": {
  "kernelspec": {
   "display_name": "Python 2",
   "language": "python",
   "name": "python2"
  },
  "language_info": {
   "codemirror_mode": {
    "name": "ipython",
    "version": 2
   },
   "file_extension": ".py",
   "mimetype": "text/x-python",
   "name": "python",
   "nbconvert_exporter": "python",
   "pygments_lexer": "ipython2",
   "version": "2.7.3"
  }
 },
 "nbformat": 4,
 "nbformat_minor": 0
}
